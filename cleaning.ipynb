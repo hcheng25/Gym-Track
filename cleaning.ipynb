{
 "cells": [
  {
   "cell_type": "markdown",
   "metadata": {},
   "source": [
    "# Clean Oct 2024"
   ]
  },
  {
   "cell_type": "code",
   "execution_count": 6,
   "metadata": {},
   "outputs": [
    {
     "name": "stdout",
     "output_type": "stream",
     "text": [
      "Exercise         Elliptical   Bench press  Dumbbell Row    Hip Thrust  \\\n",
      "Date                                                                    \n",
      "2024-10-18              NaN        70 3x8   40 3x8 fail  40 3x10 fail   \n",
      "2024-10-19              NaN           NaN           NaN           NaN   \n",
      "2024-10-20              NaN           NaN           NaN           NaN   \n",
      "2024-10-21              NaN        70 3*8        40 3*8       40 3*10   \n",
      "2024-10-22    30 min, 8 res           NaN           NaN           NaN   \n",
      "2024-10-23    10 min, 8 res  70 3x10 fail  40 3x10 fail        45 3x6   \n",
      "2024-10-24  30 min, 7-9 res           NaN           NaN           NaN   \n",
      "2024-10-25   20 min 7-8 res       70 3x10  40 3x10 fail        45 3x8   \n",
      "2024-10-26     30 min 8 res           NaN           NaN           NaN   \n",
      "2024-10-27              NaN           NaN           NaN           NaN   \n",
      "2024-10-28     13 min 7 res   80 3x6 fail  40 3x10 fail  45 3x10 fail   \n",
      "2024-10-29     20 min 8 res           NaN           NaN           NaN   \n",
      "2024-10-30              NaN        80 3x6  40 3x10 fail       45 3x10   \n",
      "2024-10-31              NaN           NaN           NaN           NaN   \n",
      "\n",
      "Exercise           Overhead shoulder press Dumbbell lateral raise  \\\n",
      "Date                                                                \n",
      "2024-10-18                             NaN                10 3x10   \n",
      "2024-10-19                             NaN                    NaN   \n",
      "2024-10-20                             NaN                    NaN   \n",
      "2024-10-21                          30 3*6                 10 3*8   \n",
      "2024-10-22                             NaN                    NaN   \n",
      "2024-10-23  30 3x8 (try again, check form)   15 3x6 fail (seated)   \n",
      "2024-10-24                             NaN                    NaN   \n",
      "2024-10-25                          30 3x8           10 3x10 fail   \n",
      "2024-10-26                             NaN                    NaN   \n",
      "2024-10-27                             NaN                    NaN   \n",
      "2024-10-28                    30 3x10 fail     (half) 15 3x6 fail   \n",
      "2024-10-29                             NaN                    NaN   \n",
      "2024-10-30                         30 3x10                    NaN   \n",
      "2024-10-31                             NaN                    NaN   \n",
      "\n",
      "Exercise      Bicep Curl    Tricep ext   Squat standing calf raise ab machine  \\\n",
      "Date                                                                            \n",
      "2024-10-18           NaN           NaN     NaN                 NaN     0 3x12   \n",
      "2024-10-19           NaN           NaN     NaN                 NaN        NaN   \n",
      "2024-10-20           NaN           NaN     NaN                 NaN        NaN   \n",
      "2024-10-21  15 3*10 fail  30 3*10 fail     NaN                 NaN        NaN   \n",
      "2024-10-22           NaN           NaN     NaN                 NaN        NaN   \n",
      "2024-10-23           NaN           NaN  30 3x8              45 3x8        NaN   \n",
      "2024-10-24           NaN           NaN     NaN                 NaN        NaN   \n",
      "2024-10-25           NaN           NaN     NaN                 NaN     0 3x12   \n",
      "2024-10-26           NaN           NaN     NaN                 NaN        NaN   \n",
      "2024-10-27           NaN           NaN     NaN                 NaN        NaN   \n",
      "2024-10-28  15 3x10 fail  30 3x10 fail     NaN                 NaN        NaN   \n",
      "2024-10-29           NaN           NaN     NaN                 NaN        NaN   \n",
      "2024-10-30           NaN           NaN     NaN                 NaN        NaN   \n",
      "2024-10-31           NaN           NaN     NaN                 NaN        NaN   \n",
      "\n",
      "Exercise     russian twist  \n",
      "Date                        \n",
      "2024-10-18  40 3x8 failure  \n",
      "2024-10-19             NaN  \n",
      "2024-10-20             NaN  \n",
      "2024-10-21             NaN  \n",
      "2024-10-22             NaN  \n",
      "2024-10-23             NaN  \n",
      "2024-10-24             NaN  \n",
      "2024-10-25          40 3x8  \n",
      "2024-10-26             NaN  \n",
      "2024-10-27             NaN  \n",
      "2024-10-28             NaN  \n",
      "2024-10-29             NaN  \n",
      "2024-10-30             NaN  \n",
      "2024-10-31             NaN  \n"
     ]
    }
   ],
   "source": [
    "import os\n",
    "from dotenv import load_dotenv\n",
    "import pandas as pd\n",
    "\n",
    "load_dotenv()\n",
    "\n",
    "# format transposed csv\n",
    "OCT_CSV = os.getenv('OCT_CSV')\n",
    "oct2024 = pd.read_csv(OCT_CSV).drop(columns='Category').transpose()\n",
    "oct2024.columns = oct2024.iloc[0]\n",
    "oct2024 = oct2024.drop(index='Exercise').drop(columns='Day of week')\n",
    "\n",
    "# date column\n",
    "oct2024['Month'] = str(10)\n",
    "oct2024['Year'] = str(2024)\n",
    "num = oct2024.index\n",
    "oct2024['Date'] = pd.to_datetime(oct2024['Year'].str.cat(others=(oct2024['Month'], num), sep='-'), format='%Y-%m-%d')\n",
    "oct2024 = oct2024.drop(columns=['Month','Year']).set_index('Date')\n",
    "\n",
    "print(oct2024)"
   ]
  }
 ],
 "metadata": {
  "kernelspec": {
   "display_name": ".venv",
   "language": "python",
   "name": "python3"
  },
  "language_info": {
   "codemirror_mode": {
    "name": "ipython",
    "version": 3
   },
   "file_extension": ".py",
   "mimetype": "text/x-python",
   "name": "python",
   "nbconvert_exporter": "python",
   "pygments_lexer": "ipython3",
   "version": "3.10.12"
  }
 },
 "nbformat": 4,
 "nbformat_minor": 2
}
